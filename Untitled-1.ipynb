{
 "cells": [
  {
   "cell_type": "code",
   "execution_count": 6,
   "metadata": {},
   "outputs": [],
   "source": [
    "import pandas as pd\n",
    "import numpy as np\n",
    "import seaborn as sns\n",
    "import matplotlib.pyplot as plt"
   ]
  },
  {
   "cell_type": "code",
   "execution_count": null,
   "metadata": {},
   "outputs": [],
   "source": [
    
   ]
  },
  {
   "cell_type": "code",
   "execution_count": null,
   "metadata": {},
   "outputs": [],
   "source": [
    "import os, types\n",
    "import pandas as pd\n",
    "from botocore.client import Config\n",
    "import ibm_boto3\n",
    "\n",
    "def __iter__(self): return 0\n",
    "\n",
    "# @hidden_cell\n",
    "# The following code accesses a file in your IBM Cloud Object Storage. It includes your credentials.\n",
    "# You might want to remove those credentials before you share the notebook.\n",
    "\n",
    "if os.environ.get('RUNTIME_ENV_LOCATION_TYPE') == 'external':\n",
    "    endpoint_f0bc0433f93b4a518afbc629bf26a345 = 'https://s3.eu-geo.objectstorage.softlayer.net'\n",
    "else:\n",
    "    endpoint_f0bc0433f93b4a518afbc629bf26a345 = 'https://s3.eu-geo.objectstorage.service.networklayer.com'\n",
    "\n",
    "client_f0bc0433f93b4a518afbc629bf26a345 = ibm_boto3.client(service_name='s3',\n",
    "    ibm_api_key_id='jv0kAVVZbpvFpaJ74gfG2adjghFsb0rafZpkxkW4E99Z',\n",
    "    ibm_auth_endpoint=\"https://iam.cloud.ibm.com/oidc/token\",\n",
    "    config=Config(signature_version='oauth'),\n",
    "    endpoint_url=endpoint_f0bc0433f93b4a518afbc629bf26a345)\n",
    "\n",
    "body = client_f0bc0433f93b4a518afbc629bf26a345.get_object(Bucket='jcomponentfinalreview-donotdelete-pr-v8a4bumdugke5p',Key='traindata (2).csv')['Body']\n",
    "# add missing __iter__ method, so pandas accepts body as file-like object\n",
    "if not hasattr(body, \"__iter__\"): body.__iter__ = types.MethodType( __iter__, body )\n",
    "\n",
    "train_data = pd.read_csv(body)\n",
    "train_data.head()"
   ]
  },
  {
   "cell_type": "markdown",
   "metadata": {},
   "source": [
    "[Output]\n",
    "Name\t      Age\t Gender\t BloodGroup\t BloodPressureure\tDiabities\t Headache  l                                               \n",
    "0\tEloyFairchild\t12.0\t1\t   1\t         0\t             0\t           0\t\n",
    "1\tIndiraMeagher\t15.0\t2\t   2\t         0\t             0             1\t\n",
    "2\tAlidaFanr       16.0\t2\t  -1\t         0\t             0\t           0\t\n",
    "3\tFloranceEslinger25.0\t1\t  -1\t         0\t             0\t           0\n",
    "4\tAmparo          28.0\t1\t   3\t         0\t             0\t           0\t\n",
    "\n"
   ]
  },
  {
   "cell_type": "markdown",
   "metadata": {},
   "source": [
    "![alt text]( biomedimg1.png \"Title\")"
   ]
  },
  {
   "cell_type": "code",
   "execution_count": null,
   "metadata": {},
   "outputs": [],
   "source": [
    "train_data\n",
    "a=train_data"
   ]
  },
  {
   "cell_type": "code",
   "execution_count": null,
   "metadata": {},
   "outputs": [],
   "source": [
    "train_data.head()"
   ]
  },
  {
   "cell_type": "markdown",
   "metadata": {},
   "source": [
    "[output]  \n",
    "Name\t      Age\t Gender\t BloodGroup\t      BloodPressure\t   Diabities\t Headache  l                                               \n",
    "0\t  EloyFairchild\t12.0\t   1\t   1\t         0\t             0\t           0\t\n",
    "1\t  IndiraMeagher\t15.0\t   2\t   2\t         0\t             0             1\t\n",
    "2\t   AlidaFanr    16.0\t   2\t  -1\t         0\t             0\t           0\t\n",
    "3\tFloranceEslinger25.0\t   1\t  -1\t         0\t             0\t           0\n",
    "4\t   Amparo       28.0\t   1\t   3\t         0\t             0\t           0"
   ]
  },
  {
   "cell_type": "markdown",
   "metadata": {},
   "source": [
    "![alt text](biomedimg1.png \"Title\")"
   ]
  },
  {
   "cell_type": "code",
   "execution_count": null,
   "metadata": {},
   "outputs": [],
   "source": [
    "train_data.info()"
   ]
  },
  {
   "cell_type": "markdown",
   "metadata": {},
   "source": [
    "[output]\n",
    "<class'pandas.core.frame.DataFrame'>\n",
    "Rangeindex:100 entries, 0 to 99\n",
    "Data columns\t(total\t10\tcolumns):\n",
    "#\t   Column\t\t\tNon-NullCount\tDtype\n",
    "---    ------           -------------   -----\n",
    "\n",
    "0\tName\t            100non-null     object\n",
    "1\tAge\t                 95non-null     float64\n",
    "2\tGender\t            100non-null     int64\n",
    "3\tBloodGroup\t        100non-null     int64\n",
    "4\tBloodPressure\t    100non-null     int64\n",
    "s\tDiabities\t        100non-null     int64\n",
    "6\tHeadaches\t        100non-null     int64\n",
    "7\tInfuenza\t        100non-null\t    int64\n",
    "8\tThypoid\t            100non-null\t    int64\n",
    "9\tMajorSideEffects\t100non-null\t    int64\n",
    "dtypes:float64(1),int64(8),object(l)\n",
    "memoryusage:7.9+KB"
   ]
  },
  {
   "cell_type": "code",
   "execution_count": null,
   "metadata": {},
   "outputs": [],
   "source": [
    "train_data.isnull().sum()"
   ]
  },
  {
   "cell_type": "markdown",
   "metadata": {},
   "source": [
    "[output]\n",
    "Name                    0\n",
    "Age                     5\n",
    "Gender                  0\n",
    "BloodGroup              0\n",
    "BloodPressure           0\n",
    "Diabities               0\n",
    "Headaches               0\n",
    "Infuenza                0\n",
    "Thypoid                 0\n",
    "MajorSideEffects        0\n",
    "dtypes: int64"
   ]
  },
  {
   "cell_type": "code",
   "execution_count": null,
   "metadata": {},
   "outputs": [],
   "source": [
    "g = sns.FacetGrid(train_data)\n",
    "g.map(plt.hist, 'Age', bins=20)"
   ]
  },
  {
   "cell_type": "markdown",
   "metadata": {},
   "source": [
    "![alt text](biomed3.png \"Title\")"
   ]
  },
  {
   "cell_type": "code",
   "execution_count": null,
   "metadata": {},
   "outputs": [],
   "source": [
    "train_data['Age'].mean()"
   ]
  },
  {
   "cell_type": "markdown",
   "metadata": {},
   "source": [
    "[output]\n",
    "34.357894736842105"
   ]
  },
  {
   "cell_type": "code",
   "execution_count": null,
   "metadata": {},
   "outputs": [],
   "source": [
    "train_data['Age'].median()"
   ]
  },
  {
   "cell_type": "markdown",
   "metadata": {},
   "source": [
    "[output]\n",
    "25.0"
   ]
  },
  {
   "cell_type": "code",
   "execution_count": null,
   "metadata": {},
   "outputs": [],
   "source": [
    "train_data['Age']=train_data['Age'].fillna(value=train_data['Age'].median())"
   ]
  },
  {
   "cell_type": "code",
   "execution_count": null,
   "metadata": {},
   "outputs": [],
   "source": [
    "train_data.isnull().sum()"
   ]
  },
  {
   "cell_type": "markdown",
   "metadata": {},
   "source": [
    "[output]\n",
    "Name                    0\n",
    "Age                     0\n",
    "Gender                  0\n",
    "BloodGroup              0\n",
    "BloodPressure           0\n",
    "Diabities               0\n",
    "Headaches               0\n",
    "Infuenza                0\n",
    "Thypoid                 0\n",
    "MajorSideEffects        0\n",
    "dtypes: int64"
   ]
  },
  {
   "cell_type": "code",
   "execution_count": null,
   "metadata": {},
   "outputs": [],
   "source": [
    "train_data.head()"
   ]
  },
  {
   "cell_type": "markdown",
   "metadata": {},
   "source": [
    "![alt text](biomed4.png \"Title\")"
   ]
  },
  {
   "cell_type": "code",
   "execution_count": null,
   "metadata": {},
   "outputs": [],
   "source": [
    "train_data.drop(['Name'],axis=1,inplace=True)\n",
    "train_data.head()"
   ]
  },
  {
   "cell_type": "markdown",
   "metadata": {},
   "source": [
    "![alt text](biomed5.png \"Title\")"
   ]
  },
  {
   "cell_type": "code",
   "execution_count": null,
   "metadata": {},
   "outputs": [],
   "source": [
    "y=train_data['Major Side Effects']"
   ]
  },
  {
   "cell_type": "code",
   "execution_count": null,
   "metadata": {},
   "outputs": [],
   "source": [
    "y"
   ]
  },
  {
   "cell_type": "markdown",
   "metadata": {},
   "source": [
    "[output]\n",
    "0  0\n",
    "1  0\n",
    "2  0\n",
    "3  0\n",
    "4  0\n",
    "5  0\n",
    "6  0\n",
    "7  0\n",
    "  ..\n",
    "95 0\n",
    "96 1\n",
    "97 0\n",
    "98 0\n",
    "99 0\n",
    "100 0\n",
    "Name: Major Side Effects , Length:100 ,dtype: int64"
   ]
  },
  {
   "cell_type": "code",
   "execution_count": null,
   "metadata": {},
   "outputs": [],
   "source": [
    "train_data.drop(['Major Side Effects'],axis=1,inplace=True)\n",
    "train_data.head()"
   ]
  },
  {
   "cell_type": "markdown",
   "metadata": {},
   "source": [
    "![alt text](biomed6.png \"Title\")"
   ]
  },
  {
   "cell_type": "code",
   "execution_count": null,
   "metadata": {},
   "outputs": [],
   "source": [
    "from sklearn.ensemble import RandomForestClassifier\n",
    "\n",
    "model=RandomForestClassifier(n_estimators=100)\n",
    "\n",
    "model.fit(train_data,y)"
   ]
  },
  {
   "cell_type": "markdown",
   "metadata": {},
   "source": [
    "[output]\n",
    "RandomForestClassifier()"
   ]
  },
  {
   "cell_type": "code",
   "execution_count": null,
   "metadata": {},
   "outputs": [],
   "source": [
    "body = client_f0bc0433f93b4a518afbc629bf26a345.get_object(Bucket='jcomponentfinalreview-donotdelete-pr-v8a4bumdugke5p',Key='finalTest_data.csv')['Body']\n",
    "# add missing __iter__ method, so pandas accepts body as file-like object\n",
    "if not hasattr(body, \"__iter__\"): body.__iter__ = types.MethodType( __iter__, body )\n",
    "\n",
    "test_data = pd.read_csv(body)\n",
    "test_data.head()"
   ]
  },
  {
   "cell_type": "markdown",
   "metadata": {},
   "source": [
    "![alt text](biomed7.png \"Title\")"
   ]
  },
  {
   "cell_type": "code",
   "execution_count": null,
   "metadata": {},
   "outputs": [],
   "source": [
    "g = sns.FacetGrid(test_data)\n",
    "g.map(plt.hist, 'age', bins=20)"
   ]
  },
  {
   "cell_type": "markdown",
   "metadata": {},
   "source": [
    "![alt text](biomed8.png \"Title\")"
   ]
  },
  {
   "cell_type": "code",
   "execution_count": null,
   "metadata": {},
   "outputs": [],
   "source": [
    "test_data.isnull().sum()"
   ]
  },
  {
   "cell_type": "markdown",
   "metadata": {},
   "source": [
    "[output]\n",
    "Name                    0\n",
    "Age                     0\n",
    "Gender                  0\n",
    "BloodGroup              0\n",
    "BloodPressure           0\n",
    "Diabities               0\n",
    "Headaches               0\n",
    "Infuenza                0\n",
    "Thypoid                 0\n",
    "MajorSideEffects        0\n",
    "dtypes: int64"
   ]
  },
  {
   "cell_type": "code",
   "execution_count": null,
   "metadata": {},
   "outputs": [],
   "source": [
    "test_data['age']=test_data['age'].fillna(value=test_data['age'].median())"
   ]
  },
  {
   "cell_type": "code",
   "execution_count": null,
   "metadata": {},
   "outputs": [],
   "source": [
    "test_data.drop(['Name'],axis=1,inplace=True)\n",
    "test_data.head()"
   ]
  },
  {
   "cell_type": "markdown",
   "metadata": {},
   "source": [
    "![alt text](biomed9.png \"Title\")"
   ]
  },
  {
   "cell_type": "code",
   "execution_count": null,
   "metadata": {},
   "outputs": [],
   "source": [
    "#test_data['Sex'] = test_data['Sex'].map( {'female': 0, 'male': 1} ).astype(int)\n",
    "#test_data.head()"
   ]
  },
  {
   "cell_type": "code",
   "execution_count": null,
   "metadata": {},
   "outputs": [],
   "source": [
    "test_data.isnull().sum()"
   ]
  },
  {
   "cell_type": "markdown",
   "metadata": {},
   "source": [
    "[output]\n",
    "Age                     0\n",
    "Gender                  0\n",
    "BloodGroup              0\n",
    "BloodPressure           0\n",
    "Diabities               0\n",
    "Headaches               0\n",
    "Infuenza                0\n",
    "Thypoid                 0\n",
    "MajorSideEffects        0\n",
    "dtypes: int64"
   ]
  },
  {
   "cell_type": "code",
   "execution_count": null,
   "metadata": {},
   "outputs": [],
   "source": []
  },
  {
   "cell_type": "code",
   "execution_count": null,
   "metadata": {},
   "outputs": [],
   "source": [
    "y_pred = model.predict(test_data)\n",
    "y_pred"
   ]
  },
  {
   "cell_type": "markdown",
   "metadata": {},
   "source": [
    "[output]\n",
    "array([0,0,0,0,0,0,0,0,0,0,0,0,0,0,1,0,0,0,0,0,0\n",
    "       0,1,0,0,0,0,0,0,1,0,0,0,0,0,0,0,0,0,0,0,0\n",
    "       1,0,0,0,0,0,0,0,0,0,0,0,0,0,0,0,0,0,0,0,0\n",
    "       0,0,0,0,0,0,0,0,0,0,0,0,1,0,0,0,0,0,0,0,0\n",
    "       0,0,0,0,0,0,0,0,0,0,0,0 ])"
   ]
  },
  {
   "cell_type": "code",
   "execution_count": null,
   "metadata": {},
   "outputs": [],
   "source": [
    "Submission = pd.DataFrame({ 'Major Side Effects': y_pred })\n",
    "Submission.to_csv('raw_data.csv', index=False)"
   ]
  },
  {
   "cell_type": "code",
   "execution_count": null,
   "metadata": {},
   "outputs": [],
   "source": [
    "Submission"
   ]
  },
  {
   "cell_type": "markdown",
   "metadata": {},
   "source": [
    "![alt text](biomed10.png \"Title\")\n",
    "\n",
    "101 rows * 1 columns"
   ]
  },
  {
   "cell_type": "code",
   "execution_count": null,
   "metadata": {},
   "outputs": [],
   "source": [
    "from sklearn.linear_model import LogisticRegression\n",
    "regressor = LogisticRegression()\n",
    "regressor.fit(train_data,y)"
   ]
  },
  {
   "cell_type": "markdown",
   "metadata": {},
   "source": [
    "[output]\n",
    "LogisticRegression()"
   ]
  },
  {
   "cell_type": "code",
   "execution_count": null,
   "metadata": {},
   "outputs": [],
   "source": [
    "y_pred_Logistic = regressor.predict(test_data)\n",
    "y_pred_Logistic"
   ]
  },
  {
   "cell_type": "markdown",
   "metadata": {},
   "source": [
    "[output]\n",
    "array([0,0,0,0,0,0,0,0,0,0,0,0,0,0,0,0,0,0,0,0,0\n",
    "       0,0,0,0,0,0,0,0,0,0,0,0,0,0,0,0,0,0,0,0,0\n",
    "       0,0,0,0,0,0,0,0,0,0,0,0,0,0,0,0,0,0,0,0,0\n",
    "       0,0,0,0,0,0,0,0,0,0,0,0,0,0,0,0,0,0,0,0,0\n",
    "       0,0,0,0,0,0,0,0,0,0,0,0 ])"
   ]
  },
  {
   "cell_type": "code",
   "execution_count": null,
   "metadata": {},
   "outputs": [],
   "source": [
    "Submission = pd.DataFrame({ 'Major Side Effects': y_pred })\n",
    "Submission.to_csv(\"D:\\Titanic Datatset\\Submission.csv\", index=False)"
   ]
  },
  {
   "cell_type": "code",
   "execution_count": null,
   "metadata": {},
   "outputs": [],
   "source": [
    "Submission"
   ]
  },
  {
   "cell_type": "markdown",
   "metadata": {},
   "source": [
    "![alt text](biomed11.png \"Title\")\n",
    "\n",
    "101 rows * 1 columns"
   ]
  }
 ],
 "metadata": {
  "interpreter": {
   "hash": "9bf2ca0f4a7adc3ce2f237ca763c1538d3ef289a4e7face3612a01cdae9f6807"
  },
  "kernelspec": {
   "display_name": "Python 3.10.0 64-bit",
   "language": "python",
   "name": "python3"
  },
  "language_info": {
   "codemirror_mode": {
    "name": "ipython",
    "version": 3
   },
   "file_extension": ".py",
   "mimetype": "text/x-python",
   "name": "python",
   "nbconvert_exporter": "python",
   "pygments_lexer": "ipython3",
   "version": "3.10.0"
  },
  "orig_nbformat": 4
 },
 "nbformat": 4,
 "nbformat_minor": 2
}
